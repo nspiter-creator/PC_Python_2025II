{
  "cells": [
    {
      "cell_type": "markdown",
      "metadata": {
        "id": "view-in-github",
        "colab_type": "text"
      },
      "source": [
        "<a href=\"https://colab.research.google.com/github/nspiter-creator/PC_Python_2025II/blob/main/clase_9/Python_strings.ipynb\" target=\"_parent\"><img src=\"https://colab.research.google.com/assets/colab-badge.svg\" alt=\"Open In Colab\"/></a>"
      ]
    },
    {
      "cell_type": "markdown",
      "id": "09cadbfb",
      "metadata": {
        "id": "09cadbfb"
      },
      "source": [
        "# Curso de Programación de Computadores en Python\n",
        "## Creación de cadenas, Slicing y Manipulación de strings\n",
        "#### Universidad Nacional de Colombia\n",
        "\n",
        "---\n",
        "\n",
        "## Objetivos\n",
        "\n",
        "- Aprender las distintas formas de crear cadenas en Python.\n",
        "- Entender y practicar slicing para extraer subcadenas.\n",
        "- Conocer y aplicar operaciones comunes de manipulación: búsqueda, transformación, división y formateo.\n",
        "- Resolver ejercicios prácticos dentro del notebook.\n",
        "\n",
        "---\n"
      ]
    },
    {
      "cell_type": "markdown",
      "id": "a6980a82",
      "metadata": {
        "id": "a6980a82"
      },
      "source": [
        "## 🔧 Cómo usar este notebook\n",
        "\n",
        "- Ejecuta las celdas de código con `Shift+Enter`.\n",
        "- Cada sección contiene explicación, ejemplos ejecutables y ejercicios.\n",
        "\n",
        "¡Manos a la obra! 🚀\n"
      ]
    },
    {
      "cell_type": "markdown",
      "id": "0480ac92",
      "metadata": {
        "id": "0480ac92"
      },
      "source": [
        "# 1️⃣ Creación de cadenas\n",
        "\n",
        "Las cadenas en Python se representan con comillas simples (`'...'`) o dobles (`\"...\"`). Las triples comillas (`'''...'''` o `\"\"\"...\"\"\"`) permiten cadenas multilínea. También existen **raw strings** prefijadas con `r` para evitar interpretar escapes, y objetos `bytes` para datos binarios.\n",
        "\n",
        "**Puntos clave:**\n",
        "- Comillas simples y dobles son equivalentes: permiten incluir la otra sin escapar.\n",
        "- Triple comilla: útil para documentación y cadenas multilínea.\n",
        "- `r\"...\"` evita interpretar `\\n`, `\\t`, etc.\n",
        "- Strings son inmutables.\n"
      ]
    },
    {
      "cell_type": "code",
      "execution_count": null,
      "id": "2fc0130b",
      "metadata": {
        "colab": {
          "base_uri": "https://localhost:8080/"
        },
        "id": "2fc0130b",
        "outputId": "a45162dc-bd5d-4952-92dc-ecf7dc5e5d97"
      },
      "outputs": [
        {
          "output_type": "stream",
          "name": "stdout",
          "text": [
            "<class 'str'> hola\n",
            "<class 'str'>\n",
            "Esto es\n",
            "una cadena\n",
            "multilínea\n",
            "C:\\nno_se_interpreta_como_salto\n",
            "b'hola bytes'\n",
            "hola mundo\n",
            "eco! eco! eco! \n",
            "Nombre: María, Edad: 23\n",
            "Formato con format: María tiene 23 años\n"
          ]
        }
      ],
      "source": [
        "# Ejemplos de creación de cadenas\n",
        "s1 = 'hola'\n",
        "s2 = \"mundo\"\n",
        "s3 = \"\"\"Esto es\n",
        "una cadena\n",
        "multilínea\"\"\"\n",
        "s4 = r'C:\\nno_se_interpreta_como_salto'\n",
        "bytes_example = b\"hola bytes\"\n",
        "\n",
        "print(type(s1), s1)\n",
        "print(type(s3))\n",
        "print(s3)\n",
        "print(s4)\n",
        "print(bytes_example)\n",
        "\n",
        "# concatenación y repetición\n",
        "print('hola' + ' ' + 'mundo')\n",
        "print('eco! ' * 3)\n",
        "\n",
        "# f-strings y formato\n",
        "nombre = 'María'\n",
        "edad = 23\n",
        "print(f\"Nombre: {nombre}, Edad: {edad}\")\n",
        "print(\"Formato con format: {} tiene {} años\".format(nombre, edad))\n"
      ]
    },
    {
      "cell_type": "markdown",
      "id": "3914b0f9",
      "metadata": {
        "id": "3914b0f9"
      },
      "source": [
        "### ✍️ Ejercicio 1 — Crear cadenas (Esqueleto)\n",
        "\n",
        "Crea tres variables:\n",
        "- `ruta_windows` como raw string que represente `C:\\nuevacarpeta\\archivo.txt` sin que `\\n` se convierta en salto de línea.\n",
        "- `mensaje_multilinea` con triple comillas que incluya al menos 2 líneas de texto.\n",
        "- `saludo` usando f-string que combine `nombre` y `ciudad` (variables dadas).\n",
        "\n",
        "Completa la celda de código siguiente.\n"
      ]
    },
    {
      "cell_type": "code",
      "execution_count": null,
      "id": "8d093bb9",
      "metadata": {
        "id": "8d093bb9"
      },
      "outputs": [],
      "source": [
        "# Esqueleto ejercicio 1\n",
        "nombre = 'Carlos'\n",
        "ciudad = 'Bogotá'\n",
        "\n",
        "# TODO: crear ruta_windows como raw string\n",
        "ruta_windows = None\n",
        "\n",
        "# TODO: crear mensaje_multilinea con triple comillas\n",
        "mensaje_multilinea = None\n",
        "\n",
        "# TODO: crear saludo usando f-string\n",
        "saludo = None\n",
        "\n",
        "# Imprimir resultados (descomenta después de completar)\n",
        "# print(ruta_windows)\n",
        "# print(mensaje_multilinea)\n",
        "# print(saludo)\n"
      ]
    },
    {
      "cell_type": "markdown",
      "source": [
        "Las operaciones efectuadas con variables numéricas, no son posibles de usar con _strings_:\n",
        "  * ``\"comida\" - \"rápida\"``\n",
        "  * ``\"huevos\" / \"fritos\"``"
      ],
      "metadata": {
        "id": "VuPET2YmAKB9"
      },
      "id": "VuPET2YmAKB9"
    },
    {
      "cell_type": "markdown",
      "source": [
        "Pero existen dos excepciones:\n",
        "  1. ``+`` que concatena o une dos o más cadenas.\n",
        "  2. ``*`` que repite $n$ veces una cadena."
      ],
      "metadata": {
        "id": "QQcXFaAPn3AX"
      },
      "id": "QQcXFaAPn3AX"
    },
    {
      "cell_type": "code",
      "source": [
        "cadena = \"hola :) \"\n",
        "print(cadena + cadena)"
      ],
      "metadata": {
        "colab": {
          "base_uri": "https://localhost:8080/"
        },
        "id": "C1-de7ei8o_E",
        "outputId": "4cfc4a4e-83a1-4a25-f9f3-9c11815ef962"
      },
      "execution_count": null,
      "outputs": [
        {
          "output_type": "stream",
          "name": "stdout",
          "text": [
            "hola :) hola :) \n"
          ]
        }
      ],
      "id": "C1-de7ei8o_E"
    },
    {
      "cell_type": "code",
      "source": [
        "cadena = \"hola :) \"\n",
        "print(cadena*4)"
      ],
      "metadata": {
        "colab": {
          "base_uri": "https://localhost:8080/"
        },
        "id": "rWq3s3icAwF6",
        "outputId": "55ec58a4-11bd-406a-f590-f384d25810c1"
      },
      "execution_count": null,
      "outputs": [
        {
          "output_type": "stream",
          "name": "stdout",
          "text": [
            "hola :) hola :) hola :) hola :) \n"
          ]
        }
      ],
      "id": "rWq3s3icAwF6"
    },
    {
      "cell_type": "markdown",
      "source": [
        "Igualmente, podemos realizar operaciones relacionales entre dos cadenas:"
      ],
      "metadata": {
        "id": "iCmQ9dedA-uF"
      },
      "id": "iCmQ9dedA-uF"
    },
    {
      "cell_type": "code",
      "source": [
        "cadena_1 = \"manzana\"\n",
        "cadena_2 = \"banano\"\n",
        "cadena_3 = \"manzana\"\n",
        "\n",
        "print(cadena_1 < cadena_2)\n",
        "print(cadena_1 == cadena_3)"
      ],
      "metadata": {
        "colab": {
          "base_uri": "https://localhost:8080/"
        },
        "id": "3DvQi1yGBHgd",
        "outputId": "54413924-d82c-43c5-e83f-b6a97e967796"
      },
      "execution_count": 32,
      "outputs": [
        {
          "output_type": "stream",
          "name": "stdout",
          "text": [
            "False\n",
            "True\n"
          ]
        }
      ],
      "id": "3DvQi1yGBHgd"
    },
    {
      "cell_type": "markdown",
      "source": [
        "Y que incluyan operadores lógicos:"
      ],
      "metadata": {
        "id": "Fc_5gZ40BfEu"
      },
      "id": "Fc_5gZ40BfEu"
    },
    {
      "cell_type": "code",
      "source": [
        "cadena_1 = \"manzana\"\n",
        "cadena_2 = \"banano\"\n",
        "cadena_3 = \"manzana\"\n",
        "\n",
        "print(cadena_1 == cadena_2 or cadena_1 == cadena_3)\n",
        "print(cadena_1 == cadena_2 and cadena_1 == cadena_3)"
      ],
      "metadata": {
        "colab": {
          "base_uri": "https://localhost:8080/"
        },
        "outputId": "ac4b340a-ad99-4230-9ed4-fcb3da79f974",
        "id": "f4uSWIzrBfEx"
      },
      "execution_count": 1,
      "outputs": [
        {
          "output_type": "stream",
          "name": "stdout",
          "text": [
            "True\n",
            "False\n"
          ]
        }
      ],
      "id": "f4uSWIzrBfEx"
    },
    {
      "cell_type": "markdown",
      "id": "38eb0a3e",
      "metadata": {
        "id": "38eb0a3e"
      },
      "source": [
        "# 2️⃣ Slicing (rebanado) de cadenas\n"
      ]
    },
    {
      "cell_type": "markdown",
      "source": [
        "### Indexación"
      ],
      "metadata": {
        "id": "nX-Um3oLIUFt"
      },
      "id": "nX-Um3oLIUFt"
    },
    {
      "cell_type": "markdown",
      "source": [
        "Como los _strings_ son una secuencia de caracteres, estos se pueden obtener por su índice con corchetes. Veámos un ejemplo:\n",
        "\n",
        "<img src=\"https://greenteapress.com/thinkpython2/html/thinkpython2009.png\" width=\"175\"/>"
      ],
      "metadata": {
        "id": "icP2shzCGQGh"
      },
      "id": "icP2shzCGQGh"
    },
    {
      "cell_type": "code",
      "source": [
        "fruta = \"banana\"\n",
        "primera_letra = fruta[0]\n",
        "print(primera_letra)\n",
        "\n",
        "for indice in range(0, 6, 1):\n",
        "    print(\"letra:\", fruta[indice])"
      ],
      "metadata": {
        "colab": {
          "base_uri": "https://localhost:8080/"
        },
        "id": "5m0gGdFv5YBt",
        "outputId": "0dbe3f88-8a73-4625-93b1-a51a41f5a035"
      },
      "execution_count": 30,
      "outputs": [
        {
          "output_type": "stream",
          "name": "stdout",
          "text": [
            "b\n",
            "letra: b\n",
            "letra: a\n",
            "letra: n\n",
            "letra: a\n",
            "letra: n\n",
            "letra: a\n"
          ]
        }
      ],
      "id": "5m0gGdFv5YBt"
    },
    {
      "cell_type": "markdown",
      "source": [
        "A lo anterior se le denomina indexación, e igualmente podemos realizarla con una variable numérica:"
      ],
      "metadata": {
        "id": "0Y1sG7WqHJgB"
      },
      "id": "0Y1sG7WqHJgB"
    },
    {
      "cell_type": "code",
      "source": [
        "i = 2\n",
        "print(fruta[i])"
      ],
      "metadata": {
        "colab": {
          "base_uri": "https://localhost:8080/"
        },
        "id": "_NaIxovzHTkx",
        "outputId": "fb1b9acc-4bf1-41ac-dcf2-0adc561d05f2"
      },
      "execution_count": 24,
      "outputs": [
        {
          "output_type": "stream",
          "name": "stdout",
          "text": [
            "l\n"
          ]
        }
      ],
      "id": "_NaIxovzHTkx"
    },
    {
      "cell_type": "markdown",
      "source": [
        "E incluso podemos utilizar una indexación negativa, que en este caso cuenta desde el último carácter:"
      ],
      "metadata": {
        "id": "8naJceEDLQOw"
      },
      "id": "8naJceEDLQOw"
    },
    {
      "cell_type": "code",
      "source": [
        "id_negativa = fruta[-3]\n",
        "print(id_negativa)"
      ],
      "metadata": {
        "colab": {
          "base_uri": "https://localhost:8080/"
        },
        "outputId": "9ee3f4cd-46bc-43ed-fcff-ef31188134ad",
        "id": "RfdRnPeULQOx"
      },
      "execution_count": 25,
      "outputs": [
        {
          "output_type": "stream",
          "name": "stdout",
          "text": [
            "l\n"
          ]
        }
      ],
      "id": "RfdRnPeULQOx"
    },
    {
      "cell_type": "markdown",
      "source": [
        "Si queremos conocer cuántos caracteres tiene nuestra cadena, solo debemos usar `len()`:"
      ],
      "metadata": {
        "id": "btWzNQZOH3hv"
      },
      "id": "btWzNQZOH3hv"
    },
    {
      "cell_type": "code",
      "source": [
        "cadena = \"esta es una cadena :)\"\n",
        "n_caracteres = len(cadena)\n",
        "print(n_caracteres)"
      ],
      "metadata": {
        "colab": {
          "base_uri": "https://localhost:8080/"
        },
        "outputId": "ca72ee56-3374-470f-9b0f-2777ec414b6c",
        "id": "D4HrZlM9H3h1"
      },
      "execution_count": 12,
      "outputs": [
        {
          "output_type": "stream",
          "name": "stdout",
          "text": [
            "21\n"
          ]
        }
      ],
      "id": "D4HrZlM9H3h1"
    },
    {
      "cell_type": "markdown",
      "source": [
        "Pero debemos tener cuidado de usar ese valor como índice en nuestra cadena:"
      ],
      "metadata": {
        "id": "b22jVGktIWjZ"
      },
      "id": "b22jVGktIWjZ"
    },
    {
      "cell_type": "code",
      "source": [
        "cadena = \"esta es una cadena :)\"\n",
        "n_caracteres = len(cadena)\n",
        "print(cadena[n_caracteres-1]) #debe ser n_caracteres-1"
      ],
      "metadata": {
        "colab": {
          "base_uri": "https://localhost:8080/"
        },
        "outputId": "ffa176ce-338a-4013-cc09-c667c1658877",
        "id": "A6su707RIWjb"
      },
      "execution_count": null,
      "outputs": [
        {
          "output_type": "stream",
          "name": "stdout",
          "text": [
            ")\n"
          ]
        }
      ],
      "id": "A6su707RIWjb"
    },
    {
      "cell_type": "code",
      "source": [
        "len(cadena)"
      ],
      "metadata": {
        "colab": {
          "base_uri": "https://localhost:8080/"
        },
        "id": "x9RKoF3Aj41Y",
        "outputId": "251d2d68-4652-4f74-fcaa-0435026fd53a"
      },
      "execution_count": null,
      "outputs": [
        {
          "output_type": "execute_result",
          "data": {
            "text/plain": [
              "8"
            ]
          },
          "metadata": {},
          "execution_count": 14
        }
      ],
      "id": "x9RKoF3Aj41Y"
    },
    {
      "cell_type": "markdown",
      "source": [
        "### Seccionado de cadenas"
      ],
      "metadata": {
        "id": "FrPAwekVInj0"
      },
      "id": "FrPAwekVInj0"
    },
    {
      "cell_type": "markdown",
      "source": [
        "* Muchas veces al realizar operaciones o manipular _strings_ se requiere seccionar o tomar parte de las cadenas.\n",
        "* Eso se realiza con la misma indexación, pero utilizando `:` dentro de los corchetes, es decir de esta forma: `[a:b]`.\n",
        "* Veámos un ejemplo con el caso anterior:\n",
        "\n",
        "<img src=\"https://greenteapress.com/thinkpython2/html/thinkpython2009.png\" width=\"175\"/>"
      ],
      "metadata": {
        "id": "QBrk6V1SJQf_"
      },
      "id": "QBrk6V1SJQf_"
    },
    {
      "cell_type": "code",
      "source": [
        "fruta = \"banana\"\n",
        "seccion = fruta[:4] # Toma los cuatro primeros caracteres\n",
        "print(seccion)"
      ],
      "metadata": {
        "colab": {
          "base_uri": "https://localhost:8080/"
        },
        "id": "RsdMagDeIoNW",
        "outputId": "f75ded9a-1b47-4366-a63e-3117a3cabbe3"
      },
      "execution_count": null,
      "outputs": [
        {
          "output_type": "stream",
          "name": "stdout",
          "text": [
            "bana\n"
          ]
        }
      ],
      "id": "RsdMagDeIoNW"
    },
    {
      "cell_type": "markdown",
      "source": [
        "Pero podemos tomar los caracteres desde cierto índice:"
      ],
      "metadata": {
        "id": "RJa-K-UQJ43W"
      },
      "id": "RJa-K-UQJ43W"
    },
    {
      "cell_type": "code",
      "source": [
        "fruta = \"banana\"\n",
        "seccion = fruta[4:] # Toma desde el cuarto carácter hacia adelante\n",
        "print(seccion)"
      ],
      "metadata": {
        "colab": {
          "base_uri": "https://localhost:8080/"
        },
        "id": "7OdYT-vsKCXs",
        "outputId": "2d124666-9dd9-4990-8632-36cb094259a0"
      },
      "execution_count": null,
      "outputs": [
        {
          "output_type": "stream",
          "name": "stdout",
          "text": [
            "na\n"
          ]
        }
      ],
      "id": "7OdYT-vsKCXs"
    },
    {
      "cell_type": "markdown",
      "source": [
        "O definiendo ambos límites:"
      ],
      "metadata": {
        "id": "BOvsA9pnKwFE"
      },
      "id": "BOvsA9pnKwFE"
    },
    {
      "cell_type": "code",
      "source": [
        "fruta = \"banana\"\n",
        "seccion = fruta[1:3] # Toma desde el primer hasta el tercer carácter (sin incluir)\n",
        "print(seccion)"
      ],
      "metadata": {
        "colab": {
          "base_uri": "https://localhost:8080/"
        },
        "outputId": "acd0aac6-dc20-4da4-f13d-75409300ba07",
        "id": "dMA0IKoSKwFE"
      },
      "execution_count": null,
      "outputs": [
        {
          "output_type": "stream",
          "name": "stdout",
          "text": [
            "an\n"
          ]
        }
      ],
      "id": "dMA0IKoSKwFE"
    },
    {
      "cell_type": "markdown",
      "source": [
        "También, podemos utilizar una indexación negativa:"
      ],
      "metadata": {
        "id": "fL3axhTpJGpY"
      },
      "id": "fL3axhTpJGpY"
    },
    {
      "cell_type": "code",
      "source": [
        "fruta = \"banana\"\n",
        "seccion = fruta[-4:-1] # Toma desde el caracter -4 hasta -1 (sin incluir)\n",
        "print(seccion)"
      ],
      "metadata": {
        "id": "vdDzWP0wJGpd",
        "colab": {
          "base_uri": "https://localhost:8080/"
        },
        "outputId": "7f85b63e-1066-48ab-8e50-77ab8afc17ff"
      },
      "execution_count": null,
      "outputs": [
        {
          "output_type": "stream",
          "name": "stdout",
          "text": [
            "nan\n"
          ]
        }
      ],
      "id": "vdDzWP0wJGpd"
    },
    {
      "cell_type": "code",
      "execution_count": null,
      "id": "b4727b18",
      "metadata": {
        "id": "b4727b18",
        "colab": {
          "base_uri": "https://localhost:8080/"
        },
        "outputId": "75aecdc2-a1c7-43e7-cbd6-7dafb744d694"
      },
      "outputs": [
        {
          "output_type": "stream",
          "name": "stdout",
          "text": [
            "s: abcdefghijkl\n",
            "s[0:5]: abcde\n",
            "s[:5]: abcde\n",
            "s[5:]: fghijkl\n",
            "s[2:8:2]: ceg\n",
            "s[-4:-1]: ijk\n",
            "s[::-1] (invertida): lkjihgfedcba\n",
            "s[::3]: adgj\n"
          ]
        }
      ],
      "source": [
        "# Ejemplos de slicing\n",
        "s = 'abcdefghijkl'\n",
        "print('s:', s)\n",
        "print('s[0:5]:', s[0:5])\n",
        "print('s[:5]:', s[:5])\n",
        "print('s[5:]:', s[5:])\n",
        "print('s[2:8:2]:', s[2:8:2])\n",
        "print('s[-4:-1]:', s[-4:-1])\n",
        "print('s[::-1] (invertida):', s[::-1])\n",
        "print('s[::3]:', s[::3])\n"
      ]
    },
    {
      "cell_type": "markdown",
      "source": [
        "### Inmutabilidad"
      ],
      "metadata": {
        "id": "NxZ2eUAFIstw"
      },
      "id": "NxZ2eUAFIstw"
    },
    {
      "cell_type": "markdown",
      "source": [
        "Refiere a la incapacidad de mutar los valores de la cadena de caracteres. Es decir, no se puede modificar a los _strings_ mediante la indexación. Veámos un ejemplo:"
      ],
      "metadata": {
        "id": "wGxnUc8iQJSM"
      },
      "id": "wGxnUc8iQJSM"
    },
    {
      "cell_type": "code",
      "source": [
        "cadena = \"esta es una cadena :)\"\n",
        "cadena[0] = \"u\"\n",
        "print(cadena)"
      ],
      "metadata": {
        "colab": {
          "base_uri": "https://localhost:8080/",
          "height": 176
        },
        "id": "z4O1GA7NIsty",
        "outputId": "c5de7542-a16e-4ca3-d6a7-64a526230644"
      },
      "execution_count": 36,
      "outputs": [
        {
          "output_type": "error",
          "ename": "TypeError",
          "evalue": "'str' object does not support item assignment",
          "traceback": [
            "\u001b[0;31m---------------------------------------------------------------------------\u001b[0m",
            "\u001b[0;31mTypeError\u001b[0m                                 Traceback (most recent call last)",
            "\u001b[0;32m/tmp/ipython-input-3624924869.py\u001b[0m in \u001b[0;36m<cell line: 0>\u001b[0;34m()\u001b[0m\n\u001b[1;32m      1\u001b[0m \u001b[0mcadena\u001b[0m \u001b[0;34m=\u001b[0m \u001b[0;34m\"esta es una cadena :)\"\u001b[0m\u001b[0;34m\u001b[0m\u001b[0;34m\u001b[0m\u001b[0m\n\u001b[0;32m----> 2\u001b[0;31m \u001b[0mcadena\u001b[0m\u001b[0;34m[\u001b[0m\u001b[0;36m0\u001b[0m\u001b[0;34m]\u001b[0m \u001b[0;34m=\u001b[0m \u001b[0;34m\"u\"\u001b[0m\u001b[0;34m\u001b[0m\u001b[0;34m\u001b[0m\u001b[0m\n\u001b[0m\u001b[1;32m      3\u001b[0m \u001b[0mprint\u001b[0m\u001b[0;34m(\u001b[0m\u001b[0mcadena\u001b[0m\u001b[0;34m)\u001b[0m\u001b[0;34m\u001b[0m\u001b[0;34m\u001b[0m\u001b[0m\n",
            "\u001b[0;31mTypeError\u001b[0m: 'str' object does not support item assignment"
          ]
        }
      ],
      "id": "z4O1GA7NIsty"
    },
    {
      "cell_type": "markdown",
      "source": [
        "Pero una forma de hacerlo es mediante la concatenación de cadenas (`+`) que ya habíamos visto:"
      ],
      "metadata": {
        "id": "p0wAPgJgQuCe"
      },
      "id": "p0wAPgJgQuCe"
    },
    {
      "cell_type": "code",
      "source": [
        "cadena = \"esta es una cadena :)\"\n",
        "nueva_cadena = \"E\" + cadena[1:]\n",
        "print(nueva_cadena)"
      ],
      "metadata": {
        "colab": {
          "base_uri": "https://localhost:8080/"
        },
        "outputId": "2d95242a-f799-4edb-d011-dc2e7d344c16",
        "id": "Ba_UnIvyQuCj"
      },
      "execution_count": 37,
      "outputs": [
        {
          "output_type": "stream",
          "name": "stdout",
          "text": [
            "Esta es una cadena :)\n"
          ]
        }
      ],
      "id": "Ba_UnIvyQuCj"
    },
    {
      "cell_type": "markdown",
      "id": "46d9805e",
      "metadata": {
        "id": "46d9805e"
      },
      "source": [
        "### ✍️ Ejercicio 2 — Slicing (Esqueleto)\n",
        "\n",
        "Dado `codigo = 'PYTHON-3.10-RELEASE'` extrae con slicing:\n",
        "- `parte1`: 'PYTHON'\n",
        "- `numero`: '3.10'\n",
        "- `estado`: 'RELEASE'\n",
        "- `salto`: caracteres cada 2 (desde inicio)\n",
        "- `invertido`: cadena completa invertida\n",
        "\n",
        "Completa la celda siguiente usando slicing solamente (sin métodos adicionales).\n"
      ]
    },
    {
      "cell_type": "code",
      "execution_count": 52,
      "id": "8b7421ba",
      "metadata": {
        "id": "8b7421ba",
        "colab": {
          "base_uri": "https://localhost:8080/"
        },
        "outputId": "647afef2-da1c-4b3b-d2e9-4d8f148b0fc9"
      },
      "outputs": [
        {
          "output_type": "stream",
          "name": "stdout",
          "text": [
            "parte1: PYTHON\n",
            "numero: 3.10\n",
            "estado: RELEASE\n",
            "salto: PTO-.0RLAE\n",
            "invertido: ESAELER-01.3-NOHTYP\n"
          ]
        }
      ],
      "source": [
        "# Esqueleto ejercicio 2\n",
        "codigo = 'PYTHON-3.10-RELEASE'\n",
        "\n",
        "\n",
        "# TODO: extraer parte1\n",
        "parte1 = codigo[0:6]\n",
        "# TODO: extraer numero\n",
        "numero = codigo[7:11]\n",
        "# TODO: extraer estado\n",
        "estado = codigo[12:]\n",
        "# TODO: caracteres cada 2\n",
        "salto = codigo[::2]\n",
        "# TODO: invertida\n",
        "invertido = codigo[:: -1]\n",
        "\n",
        "partes = codigo.split(\"-\")\n",
        "parte1 = partes [0]\n",
        "# print(parte1, numero, estado, salto, invertido)\n",
        "print(f\"parte1: {parte1}\")\n",
        "print(f\"numero: {numero}\")\n",
        "print(f\"estado: {estado}\")\n",
        "print(f\"salto: {salto}\")\n",
        "print(f\"invertido: {invertido}\")\n"
      ]
    },
    {
      "cell_type": "markdown",
      "id": "620ea9f8",
      "metadata": {
        "id": "620ea9f8"
      },
      "source": [
        "# 3️⃣ Manipulación de strings\n",
        "\n",
        "Operaciones comunes:\n",
        "\n",
        "- **Transformaciones de caso:** `lower()`, `upper()`, `title()`, `capitalize()`.\n",
        "- **Eliminar espacios:** `strip()`, `lstrip()`, `rstrip()`.\n",
        "- **Buscar y reemplazar:** `find()`, `rfind()`, `index()`, `replace()`.\n",
        "- **Dividir y unir:** `split(sep)`, `join(iterable)`.\n",
        "- **Comprobaciones:** `startswith()`, `endswith()`, `isalpha()`, `isdigit()`.\n",
        "- **Formateo:** `f-strings`, `format()`, `%`.\n",
        "- **Otras útiles:** `count()`, `partition()`, `zfill()`, `center()`.\n",
        "\n",
        "Veamos ejemplos prácticos.\n"
      ]
    },
    {
      "cell_type": "code",
      "execution_count": 49,
      "id": "4fbce8dd",
      "metadata": {
        "id": "4fbce8dd",
        "colab": {
          "base_uri": "https://localhost:8080/"
        },
        "outputId": "2ff454ac-0704-4500-80d9-2b7399408215"
      },
      "outputs": [
        {
          "output_type": "stream",
          "name": "stdout",
          "text": [
            "Original -> '   Hola Mundo, Python es genial!   '\n",
            "strip -> 'Hola Mundo, Python es genial!'\n",
            "lower ->    hola mundo, python es genial!   \n",
            "upper ->    HOLA MUNDO, PYTHON ES GENIAL!   \n",
            "title ->    Hola Mundo, Python Es Genial!   \n",
            "find \"Python\" -> 15\n",
            "count \"o\" -> 3\n",
            "   Hola Mundo, Py es genial!   \n",
            "split -> ['Hola', 'Mundo,', 'Python', 'es', 'genial!']\n",
            "join -> Hola/Mundo,/Python/es/genial!\n",
            "True\n",
            "True\n",
            "partition -> ('informe', '_', '2025.txt')\n",
            "zfill -> 00042\n",
            "center -> -------titulo-------\n"
          ]
        }
      ],
      "source": [
        "# Ejemplos de manipulación\n",
        "texto = '   Hola Mundo, Python es genial!   '\n",
        "print('Original ->', repr(texto))\n",
        "print('strip ->', repr(texto.strip()))\n",
        "print('lower ->', texto.lower())\n",
        "print('upper ->', texto.upper())\n",
        "print('title ->', texto.title())\n",
        "\n",
        "# Buscar\n",
        "print('find \"Python\" ->', texto.find('Python'))\n",
        "print('count \"o\" ->', texto.count('o'))\n",
        "\n",
        "# Reemplazar\n",
        "print(texto.replace('Python', 'Py'))\n",
        "\n",
        "# Split y join\n",
        "palabras = texto.strip().split()\n",
        "print('split ->', palabras)\n",
        "print('join ->', '/'.join(palabras))\n",
        "\n",
        "# startswith / endswith\n",
        "s = 'informe_2025.txt'\n",
        "print(s.endswith('.txt'))\n",
        "print(s.startswith('info'))\n",
        "\n",
        "# Partition\n",
        "print('partition ->', s.partition('_'))\n",
        "\n",
        "# zfill\n",
        "print('zfill ->', '42'.zfill(5))\n",
        "\n",
        "# center\n",
        "print('center ->', 'titulo'.center(20, '-'))\n"
      ]
    },
    {
      "cell_type": "markdown",
      "source": [
        "### Uso conjunto de funciones"
      ],
      "metadata": {
        "id": "B6K39ehavve7"
      },
      "id": "B6K39ehavve7"
    },
    {
      "cell_type": "markdown",
      "source": [
        "* Supongamos que tenemos un _string_ al que deseamos modificar para que todo sea en mayúscula, quitar todos los espacios en blanco al principio y final, y cambiar los `;` por `,`\n",
        "* Para eso podemos utilizar cada función despúes de la otra en una sola línea, de la siguiente forma:"
      ],
      "metadata": {
        "id": "UOKBwI-avx-G"
      },
      "id": "UOKBwI-avx-G"
    },
    {
      "cell_type": "code",
      "source": [
        "# Ejemplo de cadena -- Tomado de https://es.wikipedia.org/wiki/Python\n",
        "cadena = \"  Python es un lenguaje de alto nivel de programación; interpretado cuya filosofía; hace hincapié en la legibilidad de su código.  \"\n",
        "\n",
        "# Nueva cadena, en donde se usan múltiples funciones\n",
        "nueva_cadena = cadena.upper().strip().replace(\";\", \",\")\n",
        "\n",
        "# Mostrar resultados\n",
        "print(f\"* Inicial -> '{cadena}' \\n\\n* Nueva -> '{nueva_cadena}'\")"
      ],
      "metadata": {
        "colab": {
          "base_uri": "https://localhost:8080/"
        },
        "id": "exo7z_3Ovve8",
        "outputId": "75966502-c396-4f80-fdc2-61360ee90e32"
      },
      "execution_count": null,
      "outputs": [
        {
          "output_type": "stream",
          "name": "stdout",
          "text": [
            "* Inicial -> '  Python es un lenguaje de alto nivel de programación; interpretado cuya filosofía; hace hincapié en la legibilidad de su código.  ' \n",
            "\n",
            "* Nueva -> 'PYTHON ES UN LENGUAJE DE ALTO NIVEL DE PROGRAMACIÓN, INTERPRETADO CUYA FILOSOFÍA, HACE HINCAPIÉ EN LA LEGIBILIDAD DE SU CÓDIGO.'\n"
          ]
        }
      ],
      "id": "exo7z_3Ovve8"
    },
    {
      "cell_type": "markdown",
      "id": "1c43c844",
      "metadata": {
        "id": "1c43c844"
      },
      "source": [
        "### ✍️ Ejercicio 3 — Manipulación (Esqueleto)\n",
        "\n",
        "1. **Normalizar nombre:** implementar `normalizar_nombre(s)` que reciba una cadena `s` y retorne el nombre en formato `Nombre Apellido` (capitalizado y sin espacios extras).\n",
        "2. **Extraer extensión:** implementar `extraer_extension(filename)` que retorne la extensión de un archivo (`'txt'`, `'csv'`, etc.) o cadena vacía si no tiene.\n",
        "3. **Contar vocales:** implementar `contar_vocales(s)` que retorne el número total de vocales (a,e,i,o,u) en la cadena (ignorando mayúsculas/minúsculas).\n",
        "\n",
        "Completa la celda de código siguiente.\n"
      ]
    },
    {
      "cell_type": "code",
      "execution_count": null,
      "id": "094ad676",
      "metadata": {
        "id": "094ad676"
      },
      "outputs": [],
      "source": [
        "# Esqueleto ejercicio 3\n",
        "\n",
        "def normalizar_nombre(s):\n",
        "    # TODO: eliminar espacios, separar, capitalizar y unir\n",
        "    pass\n",
        "\n",
        "def extraer_extension(filename):\n",
        "    # TODO: usar rfind o partition para obtener la extensión\n",
        "    pass\n",
        "\n",
        "def contar_vocales(s):\n",
        "    # TODO: recorrer la cadena y contar vocales (sin usar listas para almacenar)\n",
        "    pass\n",
        "\n",
        "# Pruebas sugeridas (descomentar después de implementar):\n",
        "# print(normalizar_nombre('  ana maria  '))  # 'Ana Maria'\n",
        "# print(extraer_extension('reporte.csv'))  # 'csv'\n",
        "# print(contar_vocales('Hola Mundo'))  # 4\n"
      ]
    },
    {
      "cell_type": "markdown",
      "source": [
        "### Más y más funciones para _strings_"
      ],
      "metadata": {
        "id": "XSWCn8YnwCwa"
      },
      "id": "XSWCn8YnwCwa"
    },
    {
      "cell_type": "markdown",
      "source": [
        "_Tabla tomada y traducida de la página oficial de [W3Schools](https://www.w3schools.com/python/python_strings_methods.asp). También puedes revisar la [documentación oficial de Python](https://docs.python.org/3/library/stdtypes.html#string-methods)_\n",
        "\n",
        "\n",
        "| Método          | Descripción                                                                 |\n",
        "|------------------|-----------------------------------------------------------------------------|\n",
        "| capitalize()     | Convierte el primer carácter a mayúscula                                    |\n",
        "| casefold()       | Convierte la cadena a minúsculas                                            |\n",
        "| center()         | Devuelve una cadena centrada                                                |\n",
        "| count()          | Devuelve el número de veces que un valor especificado ocurre en una cadena  |\n",
        "| encode()         | Devuelve una versión codificada de la cadena                                |\n",
        "| endswith()       | Devuelve verdadero si la cadena termina con el valor especificado           |\n",
        "| expandtabs()     | Establece el tamaño de tabulación de la cadena                              |\n",
        "| find()           | Busca un valor especificado en la cadena y devuelve la posición donde se encontró |\n",
        "| format()         | Formatea valores especificados en una cadena                                |\n",
        "| format_map()     | Formatea valores especificados en una cadena                                |\n",
        "| index()          | Busca un valor especificado en la cadena y devuelve la posición donde se encontró |\n",
        "| isalnum()        | Devuelve verdadero si todos los caracteres en la cadena son alfanuméricos   |\n",
        "| isalpha()        | Devuelve verdadero si todos los caracteres en la cadena están en el alfabeto |\n",
        "| isascii()        | Devuelve verdadero si todos los caracteres en la cadena son caracteres ASCII |\n",
        "| isdecimal()      | Devuelve verdadero si todos los caracteres en la cadena son decimales      |\n",
        "| isdigit()        | Devuelve verdadero si todos los caracteres en la cadena son dígitos        |\n",
        "| isidentifier()   | Devuelve verdadero si la cadena es un identificador                         |\n",
        "| islower()        | Devuelve verdadero si todos los caracteres en la cadena son minúsculas     |\n",
        "| isnumeric()      | Devuelve verdadero si todos los caracteres en la cadena son numéricos      |\n",
        "| isprintable()    | Devuelve verdadero si todos los caracteres en la cadena son imprimibles    |\n",
        "| isspace()        | Devuelve verdadero si todos los caracteres en la cadena son espacios en blanco |\n",
        "| istitle()        | Devuelve verdadero si la cadena sigue las reglas de un título              |\n",
        "| isupper()        | Devuelve verdadero si todos los caracteres en la cadena son mayúsculas     |\n",
        "| join()           | Une los elementos de un iterable al final de la cadena                      |\n",
        "| ljust()          | Devuelve una versión justificada a la izquierda de la cadena               |\n",
        "| lower()          | Convierte una cadena a minúsculas                                          |\n",
        "| lstrip()         | Devuelve una versión recortada a la izquierda de la cadena                 |\n",
        "| maketrans()      | Devuelve una tabla de traducción para ser utilizada en traducciones        |\n",
        "| partition()      | Devuelve una tupla donde la cadena se divide en tres partes                |\n",
        "| replace()        | Devuelve una cadena donde un valor especificado es reemplazado por otro valor especificado |\n",
        "| rfind()          | Busca un valor especificado en la cadena y devuelve la última posición donde se encontró |\n",
        "| rindex()         | Busca un valor especificado en la cadena y devuelve la última posición donde se encontró |\n",
        "| rjust()          | Devuelve una versión justificada a la derecha de la cadena                 |\n",
        "| rpartition()     | Devuelve una tupla donde la cadena se divide en tres partes                |\n",
        "| rsplit()         | Divide la cadena en el separador especificado y devuelve una lista         |\n",
        "| rstrip()         | Devuelve una versión recortada a la derecha de la cadena                   |\n",
        "| split()          | Divide la cadena en el separador especificado y devuelve una lista         |\n",
        "| splitlines()     | Divide la cadena en saltos de línea y devuelve una lista                   |\n",
        "| startswith()     | Devuelve verdadero si la cadena comienza con el valor especificado         |\n",
        "| strip()          | Devuelve una versión recortada de la cadena                                |\n",
        "| swapcase()       | Intercambia mayúsculas y minúsculas, las minúsculas se convierten en mayúsculas y viceversa |\n",
        "| title()          | Convierte el primer carácter de cada palabra a mayúscula                   |\n",
        "| translate()      | Devuelve una cadena traducida                                              |\n",
        "| upper()          | Convierte una cadena a mayúsculas                                          |\n",
        "| zfill()          | Rellena la cadena con un número especificado de valores 0 al principio     |\n"
      ],
      "metadata": {
        "id": "dlHtEM8QwrMp"
      },
      "id": "dlHtEM8QwrMp"
    },
    {
      "cell_type": "markdown",
      "source": [
        "### Librería `string`"
      ],
      "metadata": {
        "id": "Sj24uN9xlvjW"
      },
      "id": "Sj24uN9xlvjW"
    },
    {
      "cell_type": "markdown",
      "source": [
        "Aunque las funciones predeterminadas de Python para el manejo de _strings_ son bastante útiles, ciertas acciones resultan complejas, por lo que la librería `string` ofrece mejores herramientas. Esta debe cargarse con la palabra clave `import`"
      ],
      "metadata": {
        "id": "1rdkYf1klzFg"
      },
      "id": "1rdkYf1klzFg"
    },
    {
      "cell_type": "code",
      "source": [
        "# Librería\n",
        "import string"
      ],
      "metadata": {
        "id": "hqMVKqbUlzMn"
      },
      "execution_count": null,
      "outputs": [],
      "id": "hqMVKqbUlzMn"
    },
    {
      "cell_type": "markdown",
      "source": [
        "#### `capwords()`"
      ],
      "metadata": {
        "id": "9HHkEOFY1loq"
      },
      "id": "9HHkEOFY1loq"
    },
    {
      "cell_type": "markdown",
      "source": [
        "Una vez importada, podemos, por ejemplo, colocar mayúsculas al inicio de de cada letra en una cadena con :"
      ],
      "metadata": {
        "id": "OQ4ZGg951bTw"
      },
      "id": "OQ4ZGg951bTw"
    },
    {
      "cell_type": "code",
      "source": [
        "cadena = \"esta es una cadena solo con minúsculas en las letras iniciales\"\n",
        "cadena_mayus = string.capwords(cadena)\n",
        "print(cadena_mayus)"
      ],
      "metadata": {
        "colab": {
          "base_uri": "https://localhost:8080/"
        },
        "id": "P829pGne1pmA",
        "outputId": "779a69cf-136a-42bf-8293-a100aa406511"
      },
      "execution_count": null,
      "outputs": [
        {
          "output_type": "stream",
          "name": "stdout",
          "text": [
            "Esta Es Una Cadena Solo Con Minúsculas En Las Letras Iniciales\n"
          ]
        }
      ],
      "id": "P829pGne1pmA"
    },
    {
      "cell_type": "markdown",
      "source": [
        "#### `Formatter()`"
      ],
      "metadata": {
        "id": "AhPf77Av1qQ0"
      },
      "id": "AhPf77Av1qQ0"
    },
    {
      "cell_type": "markdown",
      "source": [
        "También podemos formatear las cadenas de caracteres, siento este un símil a la función predefinida de `format()`:"
      ],
      "metadata": {
        "id": "YdjuxIJQ1qQ1"
      },
      "id": "YdjuxIJQ1qQ1"
    },
    {
      "cell_type": "code",
      "source": [
        "frase = \"El banano es una fruta que se utiliza en {}.\"\n",
        "formato = string.Formatter()\n",
        "\n",
        "nueva_cadena = formato.format(frase, \"batidos\")\n",
        "print(nueva_cadena)"
      ],
      "metadata": {
        "colab": {
          "base_uri": "https://localhost:8080/"
        },
        "id": "RXGzQD7C1qQ1",
        "outputId": "d8b8ce73-99fd-4a7b-c8e7-d93def480f82"
      },
      "execution_count": null,
      "outputs": [
        {
          "output_type": "stream",
          "name": "stdout",
          "text": [
            "El banano es una fruta que se utiliza en batidos.\n"
          ]
        }
      ],
      "id": "RXGzQD7C1qQ1"
    },
    {
      "cell_type": "code",
      "source": [
        "# Ahorrando líneas de código\n",
        "frase = \"El banano es una fruta que se utiliza en {}.\"\n",
        "formato = string.Formatter().format(frase, \"batidos\")\n",
        "print(nueva_cadena)"
      ],
      "metadata": {
        "colab": {
          "base_uri": "https://localhost:8080/"
        },
        "id": "us1z0pMl3PM9",
        "outputId": "d91b9621-14ce-463e-a6ce-3d3469274447"
      },
      "execution_count": null,
      "outputs": [
        {
          "output_type": "stream",
          "name": "stdout",
          "text": [
            "El banano es una fruta que se utiliza en batidos.\n"
          ]
        }
      ],
      "id": "us1z0pMl3PM9"
    },
    {
      "cell_type": "markdown",
      "source": [
        "#### `Template()`"
      ],
      "metadata": {
        "id": "0B4Z_L-f1q1s"
      },
      "id": "0B4Z_L-f1q1s"
    },
    {
      "cell_type": "markdown",
      "source": [
        "Al igual que `Formatter()` nos permite modificar el contenido de los _strings_, en este caso, mediante el uso de identificadores con `$` y con una plantilla:"
      ],
      "metadata": {
        "id": "DF1nARfA1q1u"
      },
      "id": "DF1nARfA1q1u"
    },
    {
      "cell_type": "code",
      "source": [
        "plantilla = string.Template(\"El banano es una fruta que se utiliza en $preparacion.\")\n",
        "nueva_cadena = plantilla.substitute(preparacion=\"batidos\")\n",
        "print(nueva_cadena)"
      ],
      "metadata": {
        "colab": {
          "base_uri": "https://localhost:8080/"
        },
        "id": "CGFdEI621q1u",
        "outputId": "d6e079fa-6fe1-4271-e222-773df85fa2c1"
      },
      "execution_count": null,
      "outputs": [
        {
          "output_type": "stream",
          "name": "stdout",
          "text": [
            "El banano es una fruta que se utiliza en batidos.\n"
          ]
        }
      ],
      "id": "CGFdEI621q1u"
    },
    {
      "cell_type": "markdown",
      "source": [
        "#### Constantes de librería `string`"
      ],
      "metadata": {
        "id": "CiKtqhSo1q7J"
      },
      "id": "CiKtqhSo1q7J"
    },
    {
      "cell_type": "markdown",
      "source": [
        "Aparte de las funciones incorporadas, las librerías tienen constantes que pueden ser utilizadas. Estas son algunas relevantes:"
      ],
      "metadata": {
        "id": "jatdpNOu1q7J"
      },
      "id": "jatdpNOu1q7J"
    },
    {
      "cell_type": "code",
      "source": [
        "# Digitos del cero al nueve\n",
        "string.digits"
      ],
      "metadata": {
        "colab": {
          "base_uri": "https://localhost:8080/",
          "height": 35
        },
        "id": "hWDYNZLO5Gmu",
        "outputId": "c94744f6-0e11-4d64-9f39-19684af7cfae"
      },
      "execution_count": null,
      "outputs": [
        {
          "output_type": "execute_result",
          "data": {
            "text/plain": [
              "'0123456789'"
            ],
            "application/vnd.google.colaboratory.intrinsic+json": {
              "type": "string"
            }
          },
          "metadata": {},
          "execution_count": 48
        }
      ],
      "id": "hWDYNZLO5Gmu"
    },
    {
      "cell_type": "code",
      "source": [
        "# Letras ASCII en minúscula y mayúscula\n",
        "string.ascii_letters"
      ],
      "metadata": {
        "colab": {
          "base_uri": "https://localhost:8080/",
          "height": 35
        },
        "id": "rl-BdHHn1q7K",
        "outputId": "46112b00-854d-4fd0-d628-b238f118ae6d"
      },
      "execution_count": null,
      "outputs": [
        {
          "output_type": "execute_result",
          "data": {
            "text/plain": [
              "'abcdefghijklmnopqrstuvwxyzABCDEFGHIJKLMNOPQRSTUVWXYZ'"
            ],
            "application/vnd.google.colaboratory.intrinsic+json": {
              "type": "string"
            }
          },
          "metadata": {},
          "execution_count": 45
        }
      ],
      "id": "rl-BdHHn1q7K"
    },
    {
      "cell_type": "code",
      "source": [
        "# Letras ASCII en minúscula\n",
        "string.ascii_lowercase"
      ],
      "metadata": {
        "colab": {
          "base_uri": "https://localhost:8080/",
          "height": 35
        },
        "id": "WBC8Lygc4sQL",
        "outputId": "08892d01-dbbb-4b77-d288-c403ddefe43b"
      },
      "execution_count": null,
      "outputs": [
        {
          "output_type": "execute_result",
          "data": {
            "text/plain": [
              "'abcdefghijklmnopqrstuvwxyz'"
            ],
            "application/vnd.google.colaboratory.intrinsic+json": {
              "type": "string"
            }
          },
          "metadata": {},
          "execution_count": 46
        }
      ],
      "id": "WBC8Lygc4sQL"
    },
    {
      "cell_type": "code",
      "source": [
        "# Signos de puntuación\n",
        "string.punctuation"
      ],
      "metadata": {
        "colab": {
          "base_uri": "https://localhost:8080/",
          "height": 35
        },
        "id": "xeK4lMm04wjw",
        "outputId": "87c47479-d89b-4261-b252-2013ea15c963"
      },
      "execution_count": null,
      "outputs": [
        {
          "output_type": "execute_result",
          "data": {
            "text/plain": [
              "'!\"#$%&\\'()*+,-./:;<=>?@[\\\\]^_`{|}~'"
            ],
            "application/vnd.google.colaboratory.intrinsic+json": {
              "type": "string"
            }
          },
          "metadata": {},
          "execution_count": 47
        }
      ],
      "id": "xeK4lMm04wjw"
    },
    {
      "cell_type": "markdown",
      "id": "dc902f9b",
      "metadata": {
        "id": "dc902f9b"
      },
      "source": [
        "## 4️⃣ Ejercicios combinados — casos de uso\n",
        "\n",
        "Aquí hay un par de ejercicios que combinan slicing, manipulación y validaciones:\n",
        "\n",
        "- **Parser simple de línea CSV:** recibe una línea como `'cadena,123, True, valor'` y debe separar campos, normalizar el primer campo y verificar que el segundo sea entero.\n",
        "- **Plantilla de reporte:** completar una plantilla con datos usando f-strings y asegurar que los valores estén sanitizados.\n",
        "\n",
        "Completa los esqueletos y prueba con las entradas sugeridas.\n"
      ]
    },
    {
      "cell_type": "code",
      "execution_count": null,
      "id": "dbcbefd9",
      "metadata": {
        "id": "dbcbefd9"
      },
      "outputs": [],
      "source": [
        "# Esqueleto: parser simple CSV\n",
        "\n",
        "def parser_linea_csv(linea):\n",
        "    # TODO: split por ',' -> obtener campo1, campo2, campo3\n",
        "    # validar que campo2 sea entero (usar try/except)\n",
        "    # retornar (campo1_normalizado, int(campo2), campo3_bool)\n",
        "    pass\n",
        "\n",
        "# Prueba sugerida:\n",
        "# print(parser_linea_csv('  productoX  , 42 , True '))\n"
      ]
    },
    {
      "cell_type": "code",
      "execution_count": null,
      "id": "7d832ebf",
      "metadata": {
        "id": "7d832ebf"
      },
      "outputs": [],
      "source": [
        "# Solución de referencia parser simple CSV\n",
        "\n",
        "def parser_linea_csv(linea):\n",
        "    campos = [c.strip() for c in linea.split(',')]\n",
        "    campo1 = ' '.join([p.capitalize() for p in campos[0].split()]) if campos[0] else ''\n",
        "    try:\n",
        "        campo2 = int(campos[1])\n",
        "    except Exception:\n",
        "        raise ValueError('El segundo campo no es un entero válido')\n",
        "    campo3 = campos[2].lower() in ('true', '1', 'si', 'yes')\n",
        "    return (campo1, campo2, campo3)\n",
        "\n",
        "print(parser_linea_csv('  productoX  , 42 , True '))\n"
      ]
    },
    {
      "cell_type": "markdown",
      "id": "7b67675b",
      "metadata": {
        "id": "7b67675b"
      },
      "source": [
        "### ✅ Tips y recomendaciones\n",
        "\n",
        "- **Evita concatenar con `+` en bucles**: usa `str.join()` o acumuladores para eficiencia.\n",
        "- **Usa f-strings** para formateo legible y eficiente (`f\"{var:.2f}\"`).\n",
        "- **Cuidado con encoding**: en archivos usa `encoding='utf-8'` al abrir.\n",
        "- **Strings inmutables**: cada operación crea una nueva cadena; para operaciones masivas considera `io.StringIO`.\n",
        "- **Validación**: siempre valida entradas de usuario (tipo, longitud, caracteres permitidos).\n",
        "\n",
        "Datos curiosos:\n",
        "- En Python, `s[::-1]` es una forma muy usada para invertir cadenas.\n",
        "- Las f-strings fueron introducidas en Python 3.6 y son más rápidas que `format()` en muchos casos.\n"
      ]
    },
    {
      "cell_type": "markdown",
      "id": "2a63be41",
      "metadata": {
        "id": "2a63be41"
      },
      "source": [
        "### Recursos recomendados\n",
        "\n",
        "- Documentación oficial: https://docs.python.org/3/library/stdtypes.html#text-sequence-type-str\n",
        "- Artículos útiles: Real Python (búsqueda: Python strings) y W3Schools (sección strings)\n"
      ]
    },
    {
      "cell_type": "markdown",
      "source": [
        "## Ejercicios"
      ],
      "metadata": {
        "id": "NYZ-YU6H-Enb"
      },
      "id": "NYZ-YU6H-Enb"
    },
    {
      "cell_type": "markdown",
      "source": [
        "#### a) Diseña un programa que lea una cadena y un número entero $k$ y nos diga si alguna de sus palabras tiene una longitud de $k$ caracteres"
      ],
      "metadata": {
        "id": "yTsBWrIQiUyx"
      },
      "id": "yTsBWrIQiUyx"
    },
    {
      "cell_type": "code",
      "execution_count": null,
      "metadata": {
        "id": "7cjT5J9niUyz"
      },
      "outputs": [],
      "source": [
        "\"\"\"\n",
        "Aquí debajo escribe tu solución\n",
        "\"\"\"\n",
        "\n"
      ],
      "id": "7cjT5J9niUyz"
    },
    {
      "cell_type": "markdown",
      "source": [
        "#### b) Diseña un programa que lea una cadena y muestre por pantalla todas sus subcadenas de longitud 4"
      ],
      "metadata": {
        "id": "5DrsRZSaiVL3"
      },
      "id": "5DrsRZSaiVL3"
    },
    {
      "cell_type": "code",
      "execution_count": null,
      "metadata": {
        "id": "43FgKQwoiVL9"
      },
      "outputs": [],
      "source": [
        "\"\"\"\n",
        "Aquí debajo escribe tu solución\n",
        "\"\"\"\n",
        "\n"
      ],
      "id": "43FgKQwoiVL9"
    }
  ],
  "metadata": {
    "colab": {
      "provenance": [],
      "include_colab_link": true
    },
    "language_info": {
      "name": "python"
    },
    "kernelspec": {
      "name": "python3",
      "display_name": "Python 3"
    }
  },
  "nbformat": 4,
  "nbformat_minor": 5
}