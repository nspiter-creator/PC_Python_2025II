{
  "nbformat": 4,
  "nbformat_minor": 0,
  "metadata": {
    "colab": {
      "provenance": [],
      "include_colab_link": true
    },
    "kernelspec": {
      "name": "python3",
      "display_name": "Python 3"
    },
    "language_info": {
      "name": "python"
    }
  },
  "cells": [
    {
      "cell_type": "markdown",
      "metadata": {
        "id": "view-in-github",
        "colab_type": "text"
      },
      "source": [
        "<a href=\"https://colab.research.google.com/github/nspiter-creator/PC_Python_2025II/blob/main/CALCULADORAAA.ipynb\" target=\"_parent\"><img src=\"https://colab.research.google.com/assets/colab-badge.svg\" alt=\"Open In Colab\"/></a>"
      ]
    },
    {
      "cell_type": "markdown",
      "source": [
        "CALCULADORA DE MASA PARA COMPUESTOS QUIMICOS\n",
        "\n"
      ],
      "metadata": {
        "id": "QrpvXrnLGakg"
      }
    },
    {
      "cell_type": "code",
      "metadata": {
        "colab": {
          "base_uri": "https://localhost:8080/"
        },
        "outputId": "e0f74fdc-0bbf-48a9-dc55-6c4f2481b59c",
        "id": "Cw5qa93qTRRW"
      },
      "source": [
        "%pip install periodictable"
      ],
      "execution_count": null,
      "outputs": [
        {
          "output_type": "stream",
          "name": "stdout",
          "text": [
            "Collecting periodictable\n",
            "  Downloading periodictable-2.0.2-py3-none-any.whl.metadata (5.4 kB)\n",
            "Requirement already satisfied: pyparsing in /usr/local/lib/python3.12/dist-packages (from periodictable) (3.2.5)\n",
            "Requirement already satisfied: numpy in /usr/local/lib/python3.12/dist-packages (from periodictable) (2.0.2)\n",
            "Downloading periodictable-2.0.2-py3-none-any.whl (811 kB)\n",
            "\u001b[2K   \u001b[90m━━━━━━━━━━━━━━━━━━━━━━━━━━━━━━━━━━━━━━━━\u001b[0m \u001b[32m811.1/811.1 kB\u001b[0m \u001b[31m12.2 MB/s\u001b[0m eta \u001b[36m0:00:00\u001b[0m\n",
            "\u001b[?25hInstalling collected packages: periodictable\n",
            "Successfully installed periodictable-2.0.2\n"
          ]
        }
      ]
    },
    {
      "cell_type": "code",
      "execution_count": 6,
      "metadata": {
        "colab": {
          "base_uri": "https://localhost:8080/",
          "height": 734
        },
        "id": "ULorjAKjGYHb",
        "outputId": "dc54a3c0-27d4-43e0-ad97-89e1cca4cc83"
      },
      "outputs": [
        {
          "output_type": "error",
          "ename": "ModuleNotFoundError",
          "evalue": "No module named 'periodictable'",
          "traceback": [
            "\u001b[0;31m---------------------------------------------------------------------------\u001b[0m",
            "\u001b[0;31mModuleNotFoundError\u001b[0m                       Traceback (most recent call last)",
            "\u001b[0;32m/tmp/ipython-input-831276538.py\u001b[0m in \u001b[0;36m<cell line: 0>\u001b[0;34m()\u001b[0m\n\u001b[1;32m      1\u001b[0m \u001b[0;32mimport\u001b[0m \u001b[0mre\u001b[0m\u001b[0;34m\u001b[0m\u001b[0;34m\u001b[0m\u001b[0m\n\u001b[1;32m      2\u001b[0m \u001b[0;32mfrom\u001b[0m \u001b[0mcollections\u001b[0m \u001b[0;32mimport\u001b[0m \u001b[0mCounter\u001b[0m\u001b[0;34m\u001b[0m\u001b[0;34m\u001b[0m\u001b[0m\n\u001b[0;32m----> 3\u001b[0;31m \u001b[0;32mimport\u001b[0m \u001b[0mperiodictable\u001b[0m  \u001b[0;31m# Librería con las masas atómicas\u001b[0m\u001b[0;34m\u001b[0m\u001b[0;34m\u001b[0m\u001b[0m\n\u001b[0m\u001b[1;32m      4\u001b[0m \u001b[0;34m\u001b[0m\u001b[0m\n\u001b[1;32m      5\u001b[0m \u001b[0;31m# ------------------------------\u001b[0m\u001b[0;34m\u001b[0m\u001b[0;34m\u001b[0m\u001b[0m\n",
            "\u001b[0;31mModuleNotFoundError\u001b[0m: No module named 'periodictable'",
            "",
            "\u001b[0;31m---------------------------------------------------------------------------\u001b[0;32m\nNOTE: If your import is failing due to a missing package, you can\nmanually install dependencies using either !pip or !apt.\n\nTo view examples of installing some common dependencies, click the\n\"Open Examples\" button below.\n\u001b[0;31m---------------------------------------------------------------------------\u001b[0m\n"
          ],
          "errorDetails": {
            "actions": [
              {
                "action": "open_url",
                "actionText": "Open Examples",
                "url": "/notebooks/snippets/importing_libraries.ipynb"
              }
            ]
          }
        }
      ],
      "source": [
        "import re\n",
        "from collections import Counter\n",
        "import periodictable  # Librería con las masas atómicas\n",
        "\n",
        "# ------------------------------\n",
        "# Reglas para mostrar al usuario\n",
        "# ------------------------------\n",
        "def mostrar_reglas():\n",
        "    print(\"=== REGLAS PARA ESCRIBIR FÓRMULAS QUÍMICAS ===\")\n",
        "    print(\"1. Cada elemento debe empezar con MAYÚSCULA, y puede tener una segunda letra minúscula.\")\n",
        "    print(\"   Ejemplo: H, He, Fe, Na\")\n",
        "    print(\"2. Se pueden usar subíndices numéricos enteros después de un elemento o grupo.\")\n",
        "    print(\"   Ejemplo: H2, SO4\")\n",
        "    print(\"3. Se permiten paréntesis para agrupar, con multiplicadores.\")\n",
        "    print(\"   Ejemplo: Fe(OH)3 → Fe:1, O:3, H:3\")\n",
        "    print(\"4. Se puede escribir un número al inicio como coeficiente global.\")\n",
        "    print(\"   Ejemplo: 2H2O → H:4, O:2\")\n",
        "    print(\"5. Solo se permiten paréntesis (), no corchetes [] ni llaves {}.\")\n",
        "    print(\"6. No se permiten espacios ni símbolos extraños.\\n\")\n",
        "\n",
        "# ------------------------------\n",
        "# Función para extraer coeficiente global\n",
        "# ------------------------------\n",
        "def extraer_coeficiente(formula: str):\n",
        "    i = 0\n",
        "    while i < len(formula) and formula[i].isdigit():\n",
        "        i += 1\n",
        "    if i == 0:\n",
        "        return 1, formula\n",
        "    return int(formula[:i]), formula[i:]\n",
        "\n",
        "# ------------------------------\n",
        "# Parser recursivo\n",
        "# ------------------------------\n",
        "def parse_formula(formula: str) -> dict:\n",
        "    def parse_recursive(s, i=0):\n",
        "        elementos = Counter()\n",
        "        while i < len(s):\n",
        "            if s[i] == \"(\":\n",
        "                subdict, i = parse_recursive(s, i+1)\n",
        "                num, i = leer_numero(s, i)\n",
        "                for k, v in subdict.items():\n",
        "                    elementos[k] += v * num\n",
        "            elif s[i] == \")\":\n",
        "                return elementos, i+1\n",
        "            else:\n",
        "                match = re.match(r\"[A-Z][a-z]?\", s[i:])\n",
        "                if not match:\n",
        "                    raise ValueError(f\"Error de sintaxis en {s[i:]}\")\n",
        "                elem = match.group(0)\n",
        "                i += len(elem)\n",
        "                num, i = leer_numero(s, i)\n",
        "                elementos[elem] += num\n",
        "        return elementos, i\n",
        "\n",
        "    def leer_numero(s, i):\n",
        "        num_str = \"\"\n",
        "        while i < len(s) and s[i].isdigit():\n",
        "            num_str += s[i]\n",
        "            i += 1\n",
        "        return (int(num_str) if num_str else 1), i\n",
        "\n",
        "    resultado, _ = parse_recursive(formula, 0)\n",
        "    return dict(resultado)\n",
        "\n",
        "# ------------------------------\n",
        "# Calcular masa molar con periodictable\n",
        "# ------------------------------\n",
        "def calcular_masa(elementos: dict) -> float:\n",
        "    masa_total = 0.0\n",
        "    for elem, cantidad in elementos.items():\n",
        "        try:\n",
        "            elemento_lib = getattr(periodictable, elem)\n",
        "        except AttributeError:\n",
        "            raise ValueError(f\"Elemento '{elem}' no reconocido en la tabla periódica.\")\n",
        "        masa_elem = elemento_lib.mass\n",
        "        if masa_elem is None:\n",
        "            raise ValueError(f\"No se encontró la masa para el elemento '{elem}'.\")\n",
        "        masa_total += masa_elem * cantidad\n",
        "    return masa_total\n",
        "\n",
        "# ------------------------------\n",
        "# Función principal\n",
        "# ------------------------------\n",
        "def masa_molar(formula: str):\n",
        "    coef, formula_sin_coef = extraer_coeficiente(formula)\n",
        "    elementos = parse_formula(formula_sin_coef)\n",
        "    masa_base = calcular_masa(elementos)\n",
        "    masa_total = coef * masa_base\n",
        "    return masa_total, coef, elementos\n",
        "\n",
        "# ------------------------------\n",
        "# Programa principal\n",
        "# ------------------------------\n",
        "if __name__ == \"__main__\":\n",
        "    mostrar_reglas()\n",
        "    formula = input(\"Ingrese la fórmula química: \")\n",
        "    try:\n",
        "        masa, coef, elementos = masa_molar(formula)\n",
        "        print(\"\\n✅ Fórmula válida\")\n",
        "        print(\"Desglose de elementos:\", elementos)\n",
        "        print(f\"Masa molar de {formula} = {masa:.3f} g/mol\\n\")\n",
        "\n",
        "        # Mostrar masa de cada elemento\n",
        "        for elem, cantidad in elementos.items():\n",
        "            elemento_lib = getattr(periodictable, elem)\n",
        "            masa_elem = elemento_lib.mass\n",
        "            print(\n",
        "                f\"La masa atómica del elemento {elem} es: {masa_elem:.5f} g/mol, \"\n",
        "                f\"y en la fórmula aparece {cantidad} veces → contribuye {masa_elem * cantidad:.5f} g/mol\"\n",
        "            )\n",
        "    except Exception as e:\n",
        "        print(\"\\n❌ Error en la fórmula ingresada.\")\n",
        "        print(\"Motivo:\", e)\n",
        "        print(\"Por favor, revise que la escritura cumple con las reglas anteriores.\")"
      ]
    }
  ]
}